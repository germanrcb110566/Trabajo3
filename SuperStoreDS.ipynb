{
 "cells": [
  {
   "cell_type": "code",
   "execution_count": 1,
   "id": "f4a228ad",
   "metadata": {},
   "outputs": [
    {
     "name": "stderr",
     "output_type": "stream",
     "text": [
      "c:\\Users\\Nasht\\Proyectos Python\\Ejercicio 3\\Trabajo3\\.venv\\Lib\\site-packages\\tqdm\\auto.py:21: TqdmWarning: IProgress not found. Please update jupyter and ipywidgets. See https://ipywidgets.readthedocs.io/en/stable/user_install.html\n",
      "  from .autonotebook import tqdm as notebook_tqdm\n"
     ]
    }
   ],
   "source": [
    "# Instalar paquetes necesarios:\n",
    "# !pip install pandas\n",
    "# !pip install numpy\n",
    "# !pip install ipykernel\n",
    "# !pip install matplotlib\n",
    "# !pip install seaborn\n",
    "# !pip install plotly_express \n",
    "# !pip install ipywidgets\n",
    "#%pip install pandas\n",
    "#%matplotlib inline\n",
    "\n",
    "import numpy as np # linear algebra\n",
    "import pandas as pd # data processing, CSV file I/O (e.g. pd.read_csv)\n",
    "import matplotlib.pyplot as plt\n",
    "import seaborn as sns\n",
    "# import plotly_express as px \n",
    "import datetime\n",
    "import warnings\n",
    "# Se importa la librería de KaggleHub para descargar datasets para la práctica\n",
    "# Se debe instalar la librería con el comando: pip install kagglehub\n",
    "import kagglehub\n"
   ]
  },
  {
   "cell_type": "code",
   "execution_count": 2,
   "id": "7727a85a",
   "metadata": {},
   "outputs": [
    {
     "name": "stdout",
     "output_type": "stream",
     "text": [
      "Downloading from https://www.kaggle.com/api/v1/datasets/download/vivek468/superstore-dataset-final?dataset_version_number=1...\n"
     ]
    },
    {
     "name": "stderr",
     "output_type": "stream",
     "text": [
      "100%|██████████| 550k/550k [00:00<00:00, 2.89MB/s]\n"
     ]
    },
    {
     "name": "stdout",
     "output_type": "stream",
     "text": [
      "Extracting files...\n"
     ]
    }
   ],
   "source": [
    "# Se establecio el path de la carpeta donde se descargan los datasets de KaggleHub la ultima version\n",
    "path = kagglehub.dataset_download(\"vivek468/superstore-dataset-final\")\n",
    "\n",
    "# El Dataset a usar es el 'Sample - Superstore.csv'\n",
    "archivo = path + '\\\\' + 'Sample - Superstore.csv'"
   ]
  },
  {
   "cell_type": "code",
   "execution_count": 3,
   "id": "e979bc0c",
   "metadata": {},
   "outputs": [],
   "source": [
    "# Para evitar que se muestren advertencias innecesarias en la salida usaremos warnings.filterwarnings('ignore')\n",
    "warnings.filterwarnings('ignore')"
   ]
  },
  {
   "cell_type": "code",
   "execution_count": 4,
   "id": "df014878",
   "metadata": {},
   "outputs": [],
   "source": [
    "# Cargar el dataset a la variable df que sera nuestro DataFrame.\n",
    "df=pd.read_csv(archivo,encoding='latin1')"
   ]
  },
  {
   "cell_type": "code",
   "execution_count": 5,
   "id": "77066058",
   "metadata": {},
   "outputs": [
    {
     "name": "stdout",
     "output_type": "stream",
     "text": [
      "<class 'pandas.core.frame.DataFrame'>\n",
      "RangeIndex: 9994 entries, 0 to 9993\n",
      "Data columns (total 21 columns):\n",
      " #   Column         Non-Null Count  Dtype  \n",
      "---  ------         --------------  -----  \n",
      " 0   Row ID         9994 non-null   int64  \n",
      " 1   Order ID       9994 non-null   object \n",
      " 2   Order Date     9994 non-null   object \n",
      " 3   Ship Date      9994 non-null   object \n",
      " 4   Ship Mode      9994 non-null   object \n",
      " 5   Customer ID    9994 non-null   object \n",
      " 6   Customer Name  9994 non-null   object \n",
      " 7   Segment        9994 non-null   object \n",
      " 8   Country        9994 non-null   object \n",
      " 9   City           9994 non-null   object \n",
      " 10  State          9994 non-null   object \n",
      " 11  Postal Code    9994 non-null   int64  \n",
      " 12  Region         9994 non-null   object \n",
      " 13  Product ID     9994 non-null   object \n",
      " 14  Category       9994 non-null   object \n",
      " 15  Sub-Category   9994 non-null   object \n",
      " 16  Product Name   9994 non-null   object \n",
      " 17  Sales          9994 non-null   float64\n",
      " 18  Quantity       9994 non-null   int64  \n",
      " 19  Discount       9994 non-null   float64\n",
      " 20  Profit         9994 non-null   float64\n",
      "dtypes: float64(3), int64(3), object(15)\n",
      "memory usage: 1.6+ MB\n"
     ]
    }
   ],
   "source": [
    "# Se revisa la información del tipo de datos del DataFrame, para poder determinar que se debe hacer con cada columna.\n",
    "# Por ejemplo, si una columna es de tipo object, se puede convertir a tipo datetime si contiene fechas.\n",
    "# Si una columna es de tipo int o float, se puede usar para cálculos numéricos.\n",
    "# Si una columna es de tipo category, se puede usar para agrupar datos.     \n",
    "df.info()"
   ]
  },
  {
   "cell_type": "code",
   "execution_count": 7,
   "id": "31da0a5e",
   "metadata": {},
   "outputs": [],
   "source": [
    "# Convertimos la fecha de pedido a formato datetime\n",
    "df[\"Order Date\"] = pd.to_datetime(df[\"Order Date\"])"
   ]
  },
  {
   "cell_type": "code",
   "execution_count": 8,
   "id": "83eb9c59",
   "metadata": {},
   "outputs": [],
   "source": [
    "# Año más reciente en el dataset\n",
    "anio_max = df[\"Order Date\"].dt.year.max()\n",
    "\n",
    "# Filtramos desde ese año menos 4\n",
    "df_5y = df[df[\"Order Date\"].dt.year >= anio_max - 4]"
   ]
  },
  {
   "cell_type": "code",
   "execution_count": 9,
   "id": "73f646f6",
   "metadata": {},
   "outputs": [
    {
     "name": "stdout",
     "output_type": "stream",
     "text": [
      "       Segment         Sales       Profit  Profit_Margin (%)\n",
      "0     Consumer  1.161401e+06  134119.2092          11.548050\n",
      "1    Corporate  7.061464e+05   91979.1340          13.025506\n",
      "2  Home Office  4.296531e+05   60298.6785          14.034269\n"
     ]
    }
   ],
   "source": [
    "#Agrupamos por segmento de cliente\n",
    "segmento_agg = (\n",
    "    df_5y.groupby(\"Segment\")[[\"Sales\", \"Profit\"]]\n",
    "    .sum()\n",
    "    .reset_index()\n",
    ")\n",
    "\n",
    "# Calculamos el margen de beneficio\n",
    "segmento_agg[\"Profit_Margin (%)\"] = (\n",
    "    segmento_agg[\"Profit\"] / segmento_agg[\"Sales\"]\n",
    ") * 1\n",
    "\n",
    "\n",
    "segmento_agg = (\n",
    "    df_5y.groupby(\"Segment\")[[\"Sales\", \"Profit\"]]\n",
    "    .sum()\n",
    "    .reset_index()\n",
    ")\n",
    "\n",
    "# Calculamos el margen de beneficio\n",
    "segmento_agg[\"Profit_Margin (%)\"] = (\n",
    "    segmento_agg[\"Profit\"] / segmento_agg[\"Sales\"]\n",
    ") * 100\n",
    "\n",
    "print(segmento_agg.sort_values(\"Sales\", ascending=False))"
   ]
  },
  {
   "cell_type": "code",
   "execution_count": 10,
   "id": "337c7d85",
   "metadata": {},
   "outputs": [
    {
     "data": {
      "image/png": "[encoded data removed]",
      "text/plain": [
       "<Figure size 640x480 with 1 Axes>"
      ]
     },
     "metadata": {},
     "output_type": "display_data"
    }
   ],
   "source": [
    "sns.barplot(data=segmento_agg, x=\"Segment\", y=\"Sales\", palette=\"Blues_d\")\n",
    "plt.title(\"Ventas por Segmento\")\n",
    "plt.ylabel(\"Ventas\")\n",
    "plt.xlabel(\"Segmento\")\n",
    "plt.show()"
   ]
  }
 ],
 "metadata": {
  "kernelspec": {
   "display_name": ".venv",
   "language": "python",
   "name": "python3"
  },
  "language_info": {
   "codemirror_mode": {
    "name": "ipython",
    "version": 3
   },
   "file_extension": ".py",
   "mimetype": "text/x-python",
   "name": "python",
   "nbconvert_exporter": "python",
   "pygments_lexer": "ipython3",
   "version": "3.13.5"
  }
 },
 "nbformat": 4,
 "nbformat_minor": 5
}
