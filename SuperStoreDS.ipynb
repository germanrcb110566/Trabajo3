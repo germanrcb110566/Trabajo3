{
 "cells": [
  {
   "cell_type": "code",
   "execution_count": null,
   "id": "f4a228ad",
   "metadata": {},
   "outputs": [],
   "source": [
    "# Instalar paquetes necesarios:\n",
    "# !pip install pandas\n",
    "# !pip install numpy\n",
    "# !pip install ipykernel\n",
    "# !pip install matplotlib\n",
    "# !pip install seaborn\n",
    "# !pip install plotly_express \n",
    "#%pip install pandas\n",
    "#%matplotlib inline\n",
    "\n",
    "import numpy as np # linear algebra\n",
    "import pandas as pd # data processing, CSV file I/O (e.g. pd.read_csv)\n",
    "import matplotlib.pyplot as plt\n",
    "import seaborn as sns\n",
    "import plotly_express as px\n",
    "import datetime\n",
    "import warnings\n",
    "# Se importa la librería de KaggleHub para descargar datasets para la práctica\n",
    "# Se debe instalar la librería con el comando: pip install kagglehub\n",
    "import kagglehub\n"
   ]
  },
  {
   "cell_type": "code",
   "execution_count": 3,
   "id": "7727a85a",
   "metadata": {},
   "outputs": [],
   "source": [
    "# Se establecio el path de la carpeta donde se descargan los datasets de KaggleHub la ultima version\n",
    "path = kagglehub.dataset_download(\"vivek468/superstore-dataset-final\")\n",
    "\n",
    "# El Dataset a usar es el 'Sample - Superstore.csv'\n",
    "archivo = path + '\\\\' + 'Sample - Superstore.csv'"
   ]
  },
  {
   "cell_type": "code",
   "execution_count": 4,
   "id": "e979bc0c",
   "metadata": {},
   "outputs": [],
   "source": [
    "# Para evitar que se muestren advertencias innecesarias en la salida usaremos warnings.filterwarnings('ignore')\n",
    "warnings.filterwarnings('ignore')"
   ]
  },
  {
   "cell_type": "code",
   "execution_count": 5,
   "id": "df014878",
   "metadata": {},
   "outputs": [],
   "source": [
    "# Cargar el dataset a la variable df que sera nuestro DataFrame.\n",
    "df=pd.read_csv(archivo,encoding='ISO-8859-1')"
   ]
  },
  {
   "cell_type": "code",
   "execution_count": null,
   "id": "77066058",
   "metadata": {},
   "outputs": [],
   "source": [
    "# Se revisa la información del tipo de datos del DataFrame, para poder determinar que se debe hacer con cada columna.\n",
    "# Por ejemplo, si una columna es de tipo object, se puede convertir a tipo datetime si contiene fechas.\n",
    "# Si una columna es de tipo int o float, se puede usar para cálculos numéricos.\n",
    "# Si una columna es de tipo category, se puede usar para agrupar datos.     \n",
    "df.info()"
   ]
  },
  {
   "cell_type": "code",
   "execution_count": null,
   "id": "322438f5",
   "metadata": {},
   "outputs": [],
   "source": [
    "# usamos df.head() para ver las primeras filas del DataFrame y poder analizar los datos para su posterior limpieza y análisis.\n",
    "# Esto nos permite ver los nombres de las columnas, los tipos de datos y los primeros registros \n",
    "df.head()  "
   ]
  }
 ],
 "metadata": {
  "kernelspec": {
   "display_name": ".venv",
   "language": "python",
   "name": "python3"
  },
  "language_info": {
   "codemirror_mode": {
    "name": "ipython",
    "version": 3
   },
   "file_extension": ".py",
   "mimetype": "text/x-python",
   "name": "python",
   "nbconvert_exporter": "python",
   "pygments_lexer": "ipython3",
   "version": "3.13.5"
  }
 },
 "nbformat": 4,
 "nbformat_minor": 5
}
