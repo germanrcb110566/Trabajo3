{
 "cells": [
  {
   "cell_type": "code",
   "execution_count": 2,
   "id": "f4a228ad",
   "metadata": {},
   "outputs": [],
   "source": [
    "# Instalar paquetes necesarios:\n",
    "# !pip install pandas\n",
    "# !pip install numpy\n",
    "# !pip install ipykernel\n",
    "# !pip install matplotlib\n",
    "# !pip install seaborn\n",
    "# !pip install plotly_express \n",
    "# !pip install ipywidgets\n",
    "#%pip install pandas\n",
    "#%matplotlib inline\n",
    "\n",
    "import numpy as np # linear algebra\n",
    "import pandas as pd # data processing, CSV file I/O (e.g. pd.read_csv)\n",
    "import matplotlib.pyplot as plt\n",
    "import seaborn as sns\n",
    "import plotly_express as px\n",
    "import datetime\n",
    "import warnings\n",
    "# Se importa la librería de KaggleHub para descargar datasets para la práctica\n",
    "# Se debe instalar la librería con el comando: pip install kagglehub\n",
    "import kagglehub\n"
   ]
  },
  {
   "cell_type": "code",
   "execution_count": 3,
   "id": "7727a85a",
   "metadata": {},
   "outputs": [],
   "source": [
    "# Se establecio el path de la carpeta donde se descargan los datasets de KaggleHub la ultima version\n",
    "path = kagglehub.dataset_download(\"vivek468/superstore-dataset-final\")\n",
    "\n",
    "# El Dataset a usar es el 'Sample - Superstore.csv'\n",
    "archivo = path + '\\\\' + 'Sample - Superstore.csv'"
   ]
  },
  {
   "cell_type": "code",
   "execution_count": 4,
   "id": "e979bc0c",
   "metadata": {},
   "outputs": [],
   "source": [
    "# Para evitar que se muestren advertencias innecesarias en la salida usaremos warnings.filterwarnings('ignore')\n",
    "warnings.filterwarnings('ignore')"
   ]
  },
  {
   "cell_type": "code",
   "execution_count": 5,
   "id": "df014878",
   "metadata": {},
   "outputs": [],
   "source": [
    "# Cargar el dataset a la variable df que sera nuestro DataFrame.\n",
    "df=pd.read_csv(archivo,encoding='ISO-8859-1')"
   ]
  },
  {
   "cell_type": "code",
   "execution_count": 6,
   "id": "77066058",
   "metadata": {},
   "outputs": [
    {
     "name": "stdout",
     "output_type": "stream",
     "text": [
      "<class 'pandas.core.frame.DataFrame'>\n",
      "RangeIndex: 9994 entries, 0 to 9993\n",
      "Data columns (total 21 columns):\n",
      " #   Column         Non-Null Count  Dtype  \n",
      "---  ------         --------------  -----  \n",
      " 0   Row ID         9994 non-null   int64  \n",
      " 1   Order ID       9994 non-null   object \n",
      " 2   Order Date     9994 non-null   object \n",
      " 3   Ship Date      9994 non-null   object \n",
      " 4   Ship Mode      9994 non-null   object \n",
      " 5   Customer ID    9994 non-null   object \n",
      " 6   Customer Name  9994 non-null   object \n",
      " 7   Segment        9994 non-null   object \n",
      " 8   Country        9994 non-null   object \n",
      " 9   City           9994 non-null   object \n",
      " 10  State          9994 non-null   object \n",
      " 11  Postal Code    9994 non-null   int64  \n",
      " 12  Region         9994 non-null   object \n",
      " 13  Product ID     9994 non-null   object \n",
      " 14  Category       9994 non-null   object \n",
      " 15  Sub-Category   9994 non-null   object \n",
      " 16  Product Name   9994 non-null   object \n",
      " 17  Sales          9994 non-null   float64\n",
      " 18  Quantity       9994 non-null   int64  \n",
      " 19  Discount       9994 non-null   float64\n",
      " 20  Profit         9994 non-null   float64\n",
      "dtypes: float64(3), int64(3), object(15)\n",
      "memory usage: 1.6+ MB\n"
     ]
    }
   ],
   "source": [
    "# Se revisa la información del tipo de datos del DataFrame, para poder determinar que se debe hacer con cada columna.\n",
    "# Por ejemplo, si una columna es de tipo object, se puede convertir a tipo datetime si contiene fechas.\n",
    "# Si una columna es de tipo int o float, se puede usar para cálculos numéricos.\n",
    "# Si una columna es de tipo category, se puede usar para agrupar datos.     \n",
    "df.info()"
   ]
  }
 ],
 "metadata": {
  "kernelspec": {
   "display_name": ".venv",
   "language": "python",
   "name": "python3"
  },
  "language_info": {
   "codemirror_mode": {
    "name": "ipython",
    "version": 3
   },
   "file_extension": ".py",
   "mimetype": "text/x-python",
   "name": "python",
   "nbconvert_exporter": "python",
   "pygments_lexer": "ipython3",
   "version": "3.13.5"
  }
 },
 "nbformat": 4,
 "nbformat_minor": 5
}
